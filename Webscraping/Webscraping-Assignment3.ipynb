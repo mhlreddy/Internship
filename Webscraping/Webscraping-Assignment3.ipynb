{
 "cells": [
  {
   "cell_type": "markdown",
   "id": "a08534df",
   "metadata": {},
   "source": [
    "# WEB SCRAPING – ASSIGNMENT 3\n",
    "\n",
    "#### Intern Name: Lakshminarayanareddy Marapareddygarihanumanthu\n",
    "#### Internship Number: DS2405"
   ]
  },
  {
   "cell_type": "code",
   "execution_count": 1,
   "id": "16307127",
   "metadata": {},
   "outputs": [
    {
     "name": "stdout",
     "output_type": "stream",
     "text": [
      "Requirement already satisfied: selenium in c:\\users\\mhlnr\\anaconda3\\lib\\site-packages (4.22.0)\n",
      "Requirement already satisfied: urllib3[socks]<3,>=1.26 in c:\\users\\mhlnr\\anaconda3\\lib\\site-packages (from selenium) (1.26.16)\n",
      "Requirement already satisfied: trio~=0.17 in c:\\users\\mhlnr\\anaconda3\\lib\\site-packages (from selenium) (0.26.0)\n",
      "Requirement already satisfied: trio-websocket~=0.9 in c:\\users\\mhlnr\\anaconda3\\lib\\site-packages (from selenium) (0.11.1)\n",
      "Requirement already satisfied: certifi>=2021.10.8 in c:\\users\\mhlnr\\anaconda3\\lib\\site-packages (from selenium) (2024.6.2)\n",
      "Requirement already satisfied: typing_extensions>=4.9.0 in c:\\users\\mhlnr\\anaconda3\\lib\\site-packages (from selenium) (4.12.2)\n",
      "Requirement already satisfied: websocket-client>=1.8.0 in c:\\users\\mhlnr\\anaconda3\\lib\\site-packages (from selenium) (1.8.0)\n",
      "Requirement already satisfied: attrs>=23.2.0 in c:\\users\\mhlnr\\anaconda3\\lib\\site-packages (from trio~=0.17->selenium) (23.2.0)\n",
      "Requirement already satisfied: sortedcontainers in c:\\users\\mhlnr\\anaconda3\\lib\\site-packages (from trio~=0.17->selenium) (2.4.0)\n",
      "Requirement already satisfied: idna in c:\\users\\mhlnr\\anaconda3\\lib\\site-packages (from trio~=0.17->selenium) (3.4)\n",
      "Requirement already satisfied: outcome in c:\\users\\mhlnr\\anaconda3\\lib\\site-packages (from trio~=0.17->selenium) (1.3.0.post0)\n",
      "Requirement already satisfied: sniffio>=1.3.0 in c:\\users\\mhlnr\\anaconda3\\lib\\site-packages (from trio~=0.17->selenium) (1.3.1)\n",
      "Requirement already satisfied: cffi>=1.14 in c:\\users\\mhlnr\\anaconda3\\lib\\site-packages (from trio~=0.17->selenium) (1.15.1)\n",
      "Requirement already satisfied: wsproto>=0.14 in c:\\users\\mhlnr\\anaconda3\\lib\\site-packages (from trio-websocket~=0.9->selenium) (1.2.0)\n",
      "Requirement already satisfied: PySocks!=1.5.7,<2.0,>=1.5.6 in c:\\users\\mhlnr\\anaconda3\\lib\\site-packages (from urllib3[socks]<3,>=1.26->selenium) (1.7.1)\n",
      "Requirement already satisfied: pycparser in c:\\users\\mhlnr\\anaconda3\\lib\\site-packages (from cffi>=1.14->trio~=0.17->selenium) (2.21)\n",
      "Requirement already satisfied: h11<1,>=0.9.0 in c:\\users\\mhlnr\\anaconda3\\lib\\site-packages (from wsproto>=0.14->trio-websocket~=0.9->selenium) (0.14.0)\n"
     ]
    }
   ],
   "source": [
    "# Install and import required modules \n",
    "!pip install selenium\n",
    "\n",
    "import selenium\n",
    "import pandas as pd\n",
    "from selenium import webdriver  # Allows you to launch/initialise a browser\n",
    "import time   # Allows to pause the webdriver for user specified time\n",
    "import warnings\n",
    "warnings.filterwarnings('ignore')\n",
    "from selenium.webdriver.common.by import By   # Allows you to search for things using specific parameters like ID, Class name,...\n",
    "\n",
    "# Importing exception handling \n",
    "from selenium.common.exceptions import NoSuchElementException  \n",
    "from selenium.common.exceptions import StaleElementReferenceException\n",
    "from selenium.webdriver.support.ui import WebDriverWait\n",
    "from selenium.webdriver.support import expected_conditions as EC\n"
   ]
  },
  {
   "cell_type": "markdown",
   "id": "e084aa2b",
   "metadata": {},
   "source": [
    "1. Write a python program which searches all the product under a particular product from www.amazon.in. The\n",
    "product to be searched will be taken as input from user. For e.g. If user input is ‘guitar’. Then search for\n",
    "guitars."
   ]
  },
  {
   "cell_type": "code",
   "execution_count": 2,
   "id": "7aae082c",
   "metadata": {},
   "outputs": [],
   "source": [
    "# Initialize the Chrome driver\n",
    "driver1 = webdriver.Chrome()\n",
    "# Opening web page https://www.amazon.in on automated Chrome browser\n",
    "driver1.get('https://www.amazon.in')  \n",
    "# Pausing the webdriver for 4 seconds\n",
    "time.sleep(4)"
   ]
  },
  {
   "cell_type": "code",
   "execution_count": 3,
   "id": "f3845410",
   "metadata": {},
   "outputs": [
    {
     "name": "stdout",
     "output_type": "stream",
     "text": [
      "Enter the product you want to search for:  \n",
      "guitars\n"
     ]
    }
   ],
   "source": [
    "# Locating search element\n",
    "search1 = driver1.find_element(By.ID,\"twotabsearchtextbox\") \n",
    "# Getting user input for search product\n",
    "print(\"Enter the product you want to search for:  \")\n",
    "product_search = input()"
   ]
  },
  {
   "cell_type": "code",
   "execution_count": 4,
   "id": "dfc91c9e",
   "metadata": {},
   "outputs": [],
   "source": [
    "# Writing/sending the user input product to search bar\n",
    "search1.send_keys(product_search)"
   ]
  },
  {
   "cell_type": "code",
   "execution_count": 5,
   "id": "eb05f012",
   "metadata": {},
   "outputs": [],
   "source": [
    "# Click the search button to start the search for user input product\n",
    "search1_button = driver1.find_element(By.ID,\"nav-search-submit-button\")\n",
    "search1_button.click()"
   ]
  },
  {
   "cell_type": "markdown",
   "id": "cc75341a",
   "metadata": {},
   "source": [
    "2. In the above question, now scrape the following details of each product listed in first 3 pages of your search\n",
    "results and save it in a data frame and csv. In case if any product has less than 3 pages in search results then\n",
    "scrape all the products available under that product name. Details to be scraped are: \"Brand\n",
    "Name\", \"Name of the Product\", \"Price\", \"Return/Exchange\", \"Expected Delivery\", \"Availability\" and\n",
    "“Product URL”. In case, if any of the details are missing for any of the product then replace it by “-“"
   ]
  },
  {
   "cell_type": "code",
   "execution_count": 6,
   "id": "be1eb078",
   "metadata": {},
   "outputs": [
    {
     "name": "stdout",
     "output_type": "stream",
     "text": [
      "Product urls of page 1 has been scraped.\n",
      "Product urls of page 2 has been scraped.\n",
      "Product urls of page 3 has been scraped.\n"
     ]
    }
   ],
   "source": [
    "# Collecting urls of all products listed in first 3 pages\n",
    "urls = []\n",
    "\n",
    "for page in range(3):\n",
    "    try:\n",
    "        page_urls = driver1.find_elements(By.XPATH,'//a[@class=\"a-link-normal s-no-outline\"]')\n",
    "        for url in page_urls:\n",
    "            url = url.get_attribute('href') # getting url from web element\n",
    "            urls.append(url)                # appending urls list            \n",
    "        page +=1\n",
    "        print(f\"Product urls of page {page} has been scraped.\")\n",
    "        \n",
    "        # Going to next page by locating the next button\n",
    "        next_button = driver1.find_element(By.XPATH,'//a[@class=\"s-pagination-item s-pagination-next s-pagination-button s-pagination-separator\"]')\n",
    "        next_button.click()    # clicking next button\n",
    "        time.sleep(5)          # Pausing webdriver for 5 seconds\n",
    "        \n",
    "    except StaleElementReferenceException as e:\n",
    "        print(\"Exception Raised : \",e)      # printing an exception\n",
    "        next_page = next_button.get_attribute('href') # Extracting next page url\n",
    "        driver1.get(next_page)     # Reloading the next page           \n",
    "    "
   ]
  },
  {
   "cell_type": "code",
   "execution_count": 7,
   "id": "7dfa16a9",
   "metadata": {},
   "outputs": [],
   "source": [
    "# Creating empty lists to save the scraped data\n",
    "brand_name = []\n",
    "product_name = []\n",
    "price = []\n",
    "return_exchange = []\n",
    "expected_delivery = []\n",
    "availability = []\n",
    "product_url = []\n",
    "\n",
    "\n",
    "for i in urls:\n",
    "    \n",
    "    driver1.get(i)\n",
    "    \n",
    "    #Scraping product brand name\n",
    "    try:\n",
    "        brand = driver1.find_element(By.XPATH, '/html/body/div[2]/div/div[5]/div[3]/div[4]/div[50]/div/table/tbody/tr[1]/td[2]/span')\n",
    "        brand_name.append(brand.text)\n",
    "    except NoSuchElementException as e:\n",
    "        brand_name.append(\"--\")\n",
    "    \n",
    "   \n",
    "    #Scraping product name\n",
    "    try:\n",
    "        product = driver1.find_element(By.XPATH, '//span[@id=\"productTitle\"]')\n",
    "        product_name.append(product.text)\n",
    "    except NoSuchElementException as e:\n",
    "        product_name.append(\"--\")\n",
    "        \n",
    "    # Scraping product price\n",
    "    try:\n",
    "        pricetag = driver1.find_element(By.XPATH,'//span[@class=\"a-price aok-align-center reinventPricePriceToPayMargin priceToPay\"]/span[2]')\n",
    "        price.append(pricetag.text)\n",
    "    except NoSuchElementException as e:\n",
    "        price.append(\"--\")\n",
    "        \n",
    "    # Scraping return / exchange\n",
    "    try:\n",
    "        returns=driver1.find_element(By.XPATH,'//li[@class=\"a-carousel-card tw-scroll-carousel-element\"]/div/span/div[2]/span')\n",
    "        return_exchange.append(returns.text)\n",
    "    except NoSuchElementException as e:\n",
    "        return_exchange.append(\"--\")\n",
    "        \n",
    "    # Scraping Expected Delivery date\n",
    "    try:\n",
    "        delivery_date=driver1.find_element(By.XPATH,'//div[@id=\"deliveryBlockContainer\"]/div/div/div/div/span/span[1]')\n",
    "        expected_delivery.append(delivery_date.text)\n",
    "    except NoSuchElementException as e:\n",
    "        expected_delivery.append(\"--\")\n",
    "        \n",
    "    # Scraping availability\n",
    "    try:\n",
    "        stock=driver1.find_element(By.XPATH,'//div[@id=\"availability\"]/span')\n",
    "        availability.append(stock.text)\n",
    "    except NoSuchElementException as e:\n",
    "        availabilityv.append(\"--\")    \n",
    "        \n",
    "    # Scraping product url\n",
    "    product_url.append(i)\n"
   ]
  },
  {
   "cell_type": "code",
   "execution_count": 8,
   "id": "6601e134",
   "metadata": {},
   "outputs": [
    {
     "name": "stdout",
     "output_type": "stream",
     "text": [
      "['Kadence', 'Kadence', 'Kadence', 'Rockstar', '--']\n"
     ]
    }
   ],
   "source": [
    "print(brand_name[0:5])"
   ]
  },
  {
   "cell_type": "code",
   "execution_count": 9,
   "id": "beff4afa",
   "metadata": {},
   "outputs": [
    {
     "name": "stdout",
     "output_type": "stream",
     "text": [
      "186 186 186 186 186 186 186\n"
     ]
    }
   ],
   "source": [
    "# Checking length of all scraped data lists is same to create data frame\n",
    "print(len(brand_name), len(product_name), len(price), len(return_exchange), len(expected_delivery), len(availability), len(product_url))"
   ]
  },
  {
   "cell_type": "code",
   "execution_count": 11,
   "id": "4fa20ac3",
   "metadata": {},
   "outputs": [
    {
     "data": {
      "text/plain": [
       "0        \n",
       "1        \n",
       "2        \n",
       "3        \n",
       "4      --\n",
       "       ..\n",
       "181    --\n",
       "182      \n",
       "183      \n",
       "184    --\n",
       "185    --\n",
       "Name: Price, Length: 186, dtype: object"
      ]
     },
     "execution_count": 11,
     "metadata": {},
     "output_type": "execute_result"
    }
   ],
   "source": [
    "# Creating data frame\n",
    "df = pd.DataFrame({'Brand': brand_name, 'Name of the Product': product_name, 'Price': price, 'Return/Exchange': return_exchange, 'Expected Delivery': expected_delivery, 'Availability': availability, 'Product URL': product_url})\n",
    "df"
   ]
  },
  {
   "cell_type": "code",
   "execution_count": null,
   "id": "4b7d2d6c",
   "metadata": {},
   "outputs": [],
   "source": [
    "# Saving the data frame into csv file\n",
    "df.to_csv('Guitars_amazon.csv')"
   ]
  },
  {
   "cell_type": "code",
   "execution_count": 23,
   "id": "7b657171",
   "metadata": {},
   "outputs": [],
   "source": [
    "#Close the browser session \n",
    "driver1.close()"
   ]
  },
  {
   "cell_type": "code",
   "execution_count": null,
   "id": "84664410",
   "metadata": {},
   "outputs": [],
   "source": []
  },
  {
   "cell_type": "markdown",
   "id": "590552b2",
   "metadata": {},
   "source": [
    "3. Write a python program to access the search bar and search button on images.google.com and scrape 10\n",
    "images each for keywords ‘fruits’, ‘cars’ and ‘Machine Learning’, ‘Guitar’, ‘Cakes’."
   ]
  },
  {
   "cell_type": "code",
   "execution_count": 2,
   "id": "6bdf5aab",
   "metadata": {},
   "outputs": [],
   "source": [
    "# Initialize the Chrome driver\n",
    "driver2 = webdriver.Chrome()\n",
    "# Visitin the google images web page https://images.google.com/\n",
    "driver2.get(\"https://images.google.com/\") \n",
    "time.sleep(4)"
   ]
  },
  {
   "cell_type": "code",
   "execution_count": null,
   "id": "b2c6cc6d",
   "metadata": {},
   "outputs": [],
   "source": []
  },
  {
   "cell_type": "markdown",
   "id": "d0fa3284",
   "metadata": {},
   "source": [
    "4. Write a python program to search for a smartphone(e.g.: Oneplus Nord, pixel 4A, etc.) on www.flipkart.com\n",
    "and scrape following details for all the search results displayed on 1st page. Details to be scraped: “Brand\n",
    "Name”, “Smartphone name”, “Colour”, “RAM”, “Storage(ROM)”, “Primary Camera”,\n",
    "“Secondary Camera”, “Display Size”, “Battery Capacity”, “Price”, “Product URL”. Incase if any of the\n",
    "details is missing then replace it by “- “. Save your results in a dataframe and CSV"
   ]
  },
  {
   "cell_type": "code",
   "execution_count": null,
   "id": "aef0dcd0",
   "metadata": {},
   "outputs": [],
   "source": []
  },
  {
   "cell_type": "code",
   "execution_count": null,
   "id": "a24a7cb7",
   "metadata": {},
   "outputs": [],
   "source": []
  },
  {
   "cell_type": "code",
   "execution_count": null,
   "id": "c370b376",
   "metadata": {},
   "outputs": [],
   "source": []
  },
  {
   "cell_type": "markdown",
   "id": "ed957bad",
   "metadata": {},
   "source": [
    "5. Write a program to scrap geospatial coordinates (latitude, longitude) of a city searched on google maps."
   ]
  },
  {
   "cell_type": "code",
   "execution_count": null,
   "id": "a0468ba0",
   "metadata": {},
   "outputs": [],
   "source": []
  },
  {
   "cell_type": "code",
   "execution_count": null,
   "id": "ee2d9116",
   "metadata": {},
   "outputs": [],
   "source": []
  },
  {
   "cell_type": "markdown",
   "id": "294a36c6",
   "metadata": {},
   "source": [
    "6. Write a program to scrap all the available details of best gaming laptops from digit.in."
   ]
  },
  {
   "cell_type": "code",
   "execution_count": null,
   "id": "9564b6a9",
   "metadata": {},
   "outputs": [],
   "source": []
  },
  {
   "cell_type": "code",
   "execution_count": null,
   "id": "dc3455c9",
   "metadata": {},
   "outputs": [],
   "source": []
  },
  {
   "cell_type": "markdown",
   "id": "7271db14",
   "metadata": {},
   "source": [
    "7. Write a python program to scrape the details for all billionaires from www.forbes.com. Details to be scrapped:\n",
    "“Rank”, “Name”, “Net worth”, “Age”, “Citizenship”, “Source”, “Industry”."
   ]
  },
  {
   "cell_type": "code",
   "execution_count": null,
   "id": "ceb1851f",
   "metadata": {},
   "outputs": [],
   "source": []
  },
  {
   "cell_type": "code",
   "execution_count": null,
   "id": "1051d1d0",
   "metadata": {},
   "outputs": [],
   "source": []
  },
  {
   "cell_type": "code",
   "execution_count": null,
   "id": "ebd88730",
   "metadata": {},
   "outputs": [],
   "source": []
  },
  {
   "cell_type": "markdown",
   "id": "30699561",
   "metadata": {},
   "source": [
    "8. Write a program to extract at least 500 Comments, Comment upvote and time when comment was posted\n",
    "from any YouTube Video."
   ]
  },
  {
   "cell_type": "code",
   "execution_count": null,
   "id": "7394c840",
   "metadata": {},
   "outputs": [],
   "source": []
  },
  {
   "cell_type": "code",
   "execution_count": null,
   "id": "597cb3ad",
   "metadata": {},
   "outputs": [],
   "source": []
  },
  {
   "cell_type": "code",
   "execution_count": null,
   "id": "4507d142",
   "metadata": {},
   "outputs": [],
   "source": []
  },
  {
   "cell_type": "markdown",
   "id": "88cc85f9",
   "metadata": {},
   "source": [
    "9. Write a python program to scrape a data for all available Hostels from https://www.hostelworld.com/ in\n",
    "“London” location. You have to scrape hostel name, distance from city centre, ratings, total reviews, overall\n",
    "reviews, privates from price, dorms from price, facilities and property description."
   ]
  },
  {
   "cell_type": "code",
   "execution_count": null,
   "id": "a8ca2bde",
   "metadata": {},
   "outputs": [],
   "source": []
  }
 ],
 "metadata": {
  "kernelspec": {
   "display_name": "Python 3 (ipykernel)",
   "language": "python",
   "name": "python3"
  },
  "language_info": {
   "codemirror_mode": {
    "name": "ipython",
    "version": 3
   },
   "file_extension": ".py",
   "mimetype": "text/x-python",
   "name": "python",
   "nbconvert_exporter": "python",
   "pygments_lexer": "ipython3",
   "version": "3.11.5"
  }
 },
 "nbformat": 4,
 "nbformat_minor": 5
}
