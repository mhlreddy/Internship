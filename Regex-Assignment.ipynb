{
 "cells": [
  {
   "cell_type": "markdown",
   "id": "3d13d0fe",
   "metadata": {},
   "source": [
    "# Assignement on RegEx (Regular Expression)                            \n",
    "\n",
    "### Intern Name: Lakshminarayanareddy Marapareddygarihanumanthu\n",
    "### Internship Number: DS2405"
   ]
  },
  {
   "cell_type": "code",
   "execution_count": 1,
   "id": "abe1133a",
   "metadata": {},
   "outputs": [],
   "source": [
    "import re\n",
    "import pandas as pd"
   ]
  },
  {
   "cell_type": "code",
   "execution_count": 2,
   "id": "35c2ad06",
   "metadata": {},
   "outputs": [
    {
     "name": "stdout",
     "output_type": "stream",
     "text": [
      "Python:Exercises::PHP:exercises:\n"
     ]
    }
   ],
   "source": [
    "# 1. Write a Python program to replace all occurrences of a space, comma, or dot with a colon.\n",
    "\n",
    "target_text = 'Python Exercises, PHP exercises.'\n",
    "pattern = r\"[\\s,.]\"\n",
    "\n",
    "result = re.sub(pattern, r':', target_text)\n",
    "print(result)"
   ]
  },
  {
   "cell_type": "code",
   "execution_count": 3,
   "id": "7317fcff",
   "metadata": {},
   "outputs": [
    {
     "data": {
      "text/html": [
       "<div>\n",
       "<style scoped>\n",
       "    .dataframe tbody tr th:only-of-type {\n",
       "        vertical-align: middle;\n",
       "    }\n",
       "\n",
       "    .dataframe tbody tr th {\n",
       "        vertical-align: top;\n",
       "    }\n",
       "\n",
       "    .dataframe thead th {\n",
       "        text-align: right;\n",
       "    }\n",
       "</style>\n",
       "<table border=\"1\" class=\"dataframe\">\n",
       "  <thead>\n",
       "    <tr style=\"text-align: right;\">\n",
       "      <th></th>\n",
       "      <th>SUMMARY</th>\n",
       "    </tr>\n",
       "  </thead>\n",
       "  <tbody>\n",
       "    <tr>\n",
       "      <th>0</th>\n",
       "      <td>hello world</td>\n",
       "    </tr>\n",
       "    <tr>\n",
       "      <th>1</th>\n",
       "      <td>test</td>\n",
       "    </tr>\n",
       "    <tr>\n",
       "      <th>2</th>\n",
       "      <td>four five six</td>\n",
       "    </tr>\n",
       "  </tbody>\n",
       "</table>\n",
       "</div>"
      ],
      "text/plain": [
       "         SUMMARY\n",
       "0    hello world\n",
       "1           test\n",
       "2  four five six"
      ]
     },
     "execution_count": 3,
     "metadata": {},
     "output_type": "execute_result"
    }
   ],
   "source": [
    "# 2. Create a dataframe using the dictionary below and remove everything (commas (,), !, XXXX, ;, etc.)\n",
    "# from the columns except words.\n",
    "\n",
    "Dictionary = {'SUMMARY' : ['hello, world!', 'XXXXX test', '123four, five:; six...']}\n",
    "\n",
    "df = pd.DataFrame(Dictionary)\n",
    "\n",
    "pattern = '[^a-zA-W-Y-Z\\s]'\n",
    "df['SUMMARY'] = df['SUMMARY'].str.replace(pattern, '', regex=True)\n",
    "df"
   ]
  },
  {
   "cell_type": "code",
   "execution_count": 4,
   "id": "b4ff4b25",
   "metadata": {},
   "outputs": [
    {
     "name": "stdout",
     "output_type": "stream",
     "text": [
      "['Indian', 'Space', 'Research', 'Organisation', 'ISRO', 'Indian', 'space', 'agency', 'founded', '1969', 'develop', 'independent', 'Indian', 'space', 'program'] \n",
      "\n",
      "['Indian', 'Space', 'Research', 'Organisation', 'ISRO', 'Indian', 'space', 'agency', 'founded', '1969', 'develop', 'independent', 'Indian', 'space', 'program']\n"
     ]
    }
   ],
   "source": [
    "# 3. Create a function in python to find all words that are at least 4 characters long in a string. \n",
    "# The use of the re.compile() method is mandatory.\n",
    "\n",
    "target_string = \"\"\"Indian Space Research Organisation (ISRO), Indian space agency, founded in 1969 to develop an \n",
    "independent Indian space program.\"\"\"\n",
    "\n",
    "string_pattern1 = r\"\\w{4,}\"\n",
    "string_pattern2 = r\"\\b\\w{4,}\\b\"\n",
    "\n",
    "def find(string_pattern, target_string):\n",
    "    pattern = re.compile(string_pattern)\n",
    "    matches = pattern.findall(target_string)\n",
    "    return matches\n",
    "\n",
    "print(find(string_pattern1, target_string),\"\\n\")\n",
    "print(find(string_pattern2, target_string))"
   ]
  },
  {
   "cell_type": "code",
   "execution_count": 5,
   "id": "5481c3e4",
   "metadata": {},
   "outputs": [
    {
     "name": "stdout",
     "output_type": "stream",
     "text": [
      "['that', 'part', 'the', 'one', 'third', 'the', 'land', 'area']\n"
     ]
    }
   ],
   "source": [
    "# 4. Create a function in python to find all three, four, and five character words in a string. \n",
    "# The use of the re.compile() method is mandatory.\n",
    "\n",
    "def find3to5(string_pattern, target_string):\n",
    "    pattern = re.compile(string_pattern)\n",
    "    matches = pattern.findall(target_string)\n",
    "    return matches\n",
    "\n",
    "target_string = \"Scotland is a country that is part of the United Kingdom. It contains nearly one third of the UK's land area.\"\n",
    "string_pattern = r\"\\b\\w{3,5}\\b\"\n",
    "\n",
    "print(find3to5(string_pattern, target_string))"
   ]
  },
  {
   "cell_type": "code",
   "execution_count": 6,
   "id": "90ed8d3f",
   "metadata": {},
   "outputs": [
    {
     "name": "stdout",
     "output_type": "stream",
     "text": [
      "['example (.com)', 'hr@fliprobo (.com)', 'github (.com)', 'Hello (Data Science World)', 'Data (Scientist)'] \n",
      "\n",
      "example.com\n",
      "hr@fliprobo.com\n",
      "github.com\n",
      "Hello Data Science World\n",
      "Data Scientist\n"
     ]
    }
   ],
   "source": [
    "# 5. Create a function in Python to remove the parenthesis in a list of strings. \n",
    "# The use of the re.compile() method is mandatory.\n",
    "\n",
    "List_strings = [\"example (.com)\", \"hr@fliprobo (.com)\", \"github (.com)\", \"Hello (Data Science World)\", \"Data (Scientist)\"]\n",
    "\n",
    "print(List_strings,\"\\n\")\n",
    "\n",
    "def remove(strings):\n",
    "    pattern = re.compile(r\"\\(|\\)\") \n",
    "    modified_strings = []    \n",
    "    \n",
    "    for string in strings:\n",
    "        remove_parenthesis= re.sub(pattern,\"\",string)\n",
    "        modified_strings.append(remove_parenthesis)\n",
    "        \n",
    "    for i in range(len(modified_strings)):\n",
    "        modified_strings[i] = re.sub(r\"\\s(.com)\",r\"\\1\",modified_strings[i])\n",
    "        \n",
    "    for item in modified_strings:\n",
    "        print(item)\n",
    "    \n",
    "remove(List_strings)"
   ]
  },
  {
   "cell_type": "code",
   "execution_count": 7,
   "id": "55523d0d",
   "metadata": {},
   "outputs": [
    {
     "name": "stdout",
     "output_type": "stream",
     "text": [
      "[\"example\", \"hr@fliprobo\", \"github\", \"Hello\", \"Data\"]\n"
     ]
    }
   ],
   "source": [
    "# 6. Write a python program to remove the parenthesis area from the text stored in the text file using Regular Expression.\n",
    "\n",
    "def modified_regex():\n",
    "    with open(\"sample1.txt\") as file:\n",
    "        for line in file:\n",
    "            modified = re.sub(r\" ?\\([^)]+\\)\",\"\",line)\n",
    "            print(modified)            \n",
    "            \n",
    "modified_regex() "
   ]
  },
  {
   "cell_type": "code",
   "execution_count": 8,
   "id": "ef97729d",
   "metadata": {},
   "outputs": [
    {
     "name": "stdout",
     "output_type": "stream",
     "text": [
      "['Importance', 'Of', 'Regular', 'Expressions', 'In', 'Python'] \n",
      "\n",
      "['Importance', 'Of', 'Regular', 'Expressions', 'In', 'Python']\n"
     ]
    }
   ],
   "source": [
    "# 7. Write a regular expression in Python to split a string into uppercase letters.\n",
    "\n",
    "sample_text = \"ImportanceOfRegularExpressionsInPython\"\n",
    "pattern = \"[A-Z][^A-Z]*\"\n",
    "\n",
    "split_string1 = re.findall(pattern, sample_text)\n",
    "print(split_string1, \"\\n\")\n",
    "\n",
    "pattern2 = \"([A-Z][^A-Z]*)\"\n",
    "split_string2 = [ x for x in re.split(pattern2, sample_text) if x]\n",
    "\n",
    "print(str(split_string2))"
   ]
  },
  {
   "cell_type": "code",
   "execution_count": 9,
   "id": "c636bc99",
   "metadata": {},
   "outputs": [
    {
     "name": "stdout",
     "output_type": "stream",
     "text": [
      "RegularExpression 1IsAn 2ImportantTopic 3InPython\n"
     ]
    }
   ],
   "source": [
    "# 8. Create a function in python to insert spaces between words starting with numbers.\n",
    "\n",
    "sample_text = \"RegularExpression1IsAn2ImportantTopic3InPython\"\n",
    "\n",
    "def insert_space(target_text):\n",
    "    pattern = r\"([A-Za-z]+)(\\d+)\"\n",
    "    result = re.sub(pattern,r\"\\1 \\2\", target_text)\n",
    "    print(result)\n",
    "    \n",
    "insert_space(sample_text)"
   ]
  },
  {
   "cell_type": "code",
   "execution_count": 10,
   "id": "6716bd48",
   "metadata": {},
   "outputs": [
    {
     "name": "stdout",
     "output_type": "stream",
     "text": [
      " RegularExpression 1 IsAn 2 ImportantTopic 3 InPython\n"
     ]
    }
   ],
   "source": [
    "# 9. Create a function in python to insert spaces between words starting with capital letters or with numbers.\n",
    "\n",
    "target_text = \"RegularExpression1IsAn2ImportantTopic3InPython\"\n",
    "\n",
    "def insert_spaces(target_text):\n",
    "    pattern = r\"([A-Za-z]+|\\d)\"\n",
    "    result = re.sub(pattern,r\" \\1\", target_text)\n",
    "    print(result)\n",
    "    \n",
    "insert_spaces(target_text)"
   ]
  },
  {
   "cell_type": "code",
   "execution_count": 11,
   "id": "4ad7bb84",
   "metadata": {},
   "outputs": [
    {
     "data": {
      "text/html": [
       "<div>\n",
       "<style scoped>\n",
       "    .dataframe tbody tr th:only-of-type {\n",
       "        vertical-align: middle;\n",
       "    }\n",
       "\n",
       "    .dataframe tbody tr th {\n",
       "        vertical-align: top;\n",
       "    }\n",
       "\n",
       "    .dataframe thead th {\n",
       "        text-align: right;\n",
       "    }\n",
       "</style>\n",
       "<table border=\"1\" class=\"dataframe\">\n",
       "  <thead>\n",
       "    <tr style=\"text-align: right;\">\n",
       "      <th></th>\n",
       "      <th>Country</th>\n",
       "      <th>Region</th>\n",
       "      <th>Happiness Rank</th>\n",
       "      <th>Happiness Score</th>\n",
       "      <th>Standard Error</th>\n",
       "      <th>Economy (GDP per Capita)</th>\n",
       "      <th>Family</th>\n",
       "      <th>Health (Life Expectancy)</th>\n",
       "      <th>Freedom</th>\n",
       "      <th>Trust (Government Corruption)</th>\n",
       "      <th>Generosity</th>\n",
       "      <th>Dystopia Residual</th>\n",
       "      <th>first_five_letters</th>\n",
       "    </tr>\n",
       "  </thead>\n",
       "  <tbody>\n",
       "    <tr>\n",
       "      <th>0</th>\n",
       "      <td>Switzerland</td>\n",
       "      <td>Western Europe</td>\n",
       "      <td>1</td>\n",
       "      <td>7.587</td>\n",
       "      <td>0.03411</td>\n",
       "      <td>1.39651</td>\n",
       "      <td>1.34951</td>\n",
       "      <td>0.94143</td>\n",
       "      <td>0.66557</td>\n",
       "      <td>0.41978</td>\n",
       "      <td>0.29678</td>\n",
       "      <td>2.51738</td>\n",
       "      <td>Switz</td>\n",
       "    </tr>\n",
       "    <tr>\n",
       "      <th>1</th>\n",
       "      <td>Iceland</td>\n",
       "      <td>Western Europe</td>\n",
       "      <td>2</td>\n",
       "      <td>7.561</td>\n",
       "      <td>0.04884</td>\n",
       "      <td>1.30232</td>\n",
       "      <td>1.40223</td>\n",
       "      <td>0.94784</td>\n",
       "      <td>0.62877</td>\n",
       "      <td>0.14145</td>\n",
       "      <td>0.43630</td>\n",
       "      <td>2.70201</td>\n",
       "      <td>Icela</td>\n",
       "    </tr>\n",
       "    <tr>\n",
       "      <th>2</th>\n",
       "      <td>Denmark</td>\n",
       "      <td>Western Europe</td>\n",
       "      <td>3</td>\n",
       "      <td>7.527</td>\n",
       "      <td>0.03328</td>\n",
       "      <td>1.32548</td>\n",
       "      <td>1.36058</td>\n",
       "      <td>0.87464</td>\n",
       "      <td>0.64938</td>\n",
       "      <td>0.48357</td>\n",
       "      <td>0.34139</td>\n",
       "      <td>2.49204</td>\n",
       "      <td>Denma</td>\n",
       "    </tr>\n",
       "    <tr>\n",
       "      <th>3</th>\n",
       "      <td>Norway</td>\n",
       "      <td>Western Europe</td>\n",
       "      <td>4</td>\n",
       "      <td>7.522</td>\n",
       "      <td>0.03880</td>\n",
       "      <td>1.45900</td>\n",
       "      <td>1.33095</td>\n",
       "      <td>0.88521</td>\n",
       "      <td>0.66973</td>\n",
       "      <td>0.36503</td>\n",
       "      <td>0.34699</td>\n",
       "      <td>2.46531</td>\n",
       "      <td>Norwa</td>\n",
       "    </tr>\n",
       "    <tr>\n",
       "      <th>4</th>\n",
       "      <td>Canada</td>\n",
       "      <td>North America</td>\n",
       "      <td>5</td>\n",
       "      <td>7.427</td>\n",
       "      <td>0.03553</td>\n",
       "      <td>1.32629</td>\n",
       "      <td>1.32261</td>\n",
       "      <td>0.90563</td>\n",
       "      <td>0.63297</td>\n",
       "      <td>0.32957</td>\n",
       "      <td>0.45811</td>\n",
       "      <td>2.45176</td>\n",
       "      <td>Canad</td>\n",
       "    </tr>\n",
       "    <tr>\n",
       "      <th>...</th>\n",
       "      <td>...</td>\n",
       "      <td>...</td>\n",
       "      <td>...</td>\n",
       "      <td>...</td>\n",
       "      <td>...</td>\n",
       "      <td>...</td>\n",
       "      <td>...</td>\n",
       "      <td>...</td>\n",
       "      <td>...</td>\n",
       "      <td>...</td>\n",
       "      <td>...</td>\n",
       "      <td>...</td>\n",
       "      <td>...</td>\n",
       "    </tr>\n",
       "    <tr>\n",
       "      <th>153</th>\n",
       "      <td>Rwanda</td>\n",
       "      <td>Sub-Saharan Africa</td>\n",
       "      <td>154</td>\n",
       "      <td>3.465</td>\n",
       "      <td>0.03464</td>\n",
       "      <td>0.22208</td>\n",
       "      <td>0.77370</td>\n",
       "      <td>0.42864</td>\n",
       "      <td>0.59201</td>\n",
       "      <td>0.55191</td>\n",
       "      <td>0.22628</td>\n",
       "      <td>0.67042</td>\n",
       "      <td>Rwand</td>\n",
       "    </tr>\n",
       "    <tr>\n",
       "      <th>154</th>\n",
       "      <td>Benin</td>\n",
       "      <td>Sub-Saharan Africa</td>\n",
       "      <td>155</td>\n",
       "      <td>3.340</td>\n",
       "      <td>0.03656</td>\n",
       "      <td>0.28665</td>\n",
       "      <td>0.35386</td>\n",
       "      <td>0.31910</td>\n",
       "      <td>0.48450</td>\n",
       "      <td>0.08010</td>\n",
       "      <td>0.18260</td>\n",
       "      <td>1.63328</td>\n",
       "      <td>Benin</td>\n",
       "    </tr>\n",
       "    <tr>\n",
       "      <th>155</th>\n",
       "      <td>Syria</td>\n",
       "      <td>Middle East and Northern Africa</td>\n",
       "      <td>156</td>\n",
       "      <td>3.006</td>\n",
       "      <td>0.05015</td>\n",
       "      <td>0.66320</td>\n",
       "      <td>0.47489</td>\n",
       "      <td>0.72193</td>\n",
       "      <td>0.15684</td>\n",
       "      <td>0.18906</td>\n",
       "      <td>0.47179</td>\n",
       "      <td>0.32858</td>\n",
       "      <td>Syria</td>\n",
       "    </tr>\n",
       "    <tr>\n",
       "      <th>156</th>\n",
       "      <td>Burundi</td>\n",
       "      <td>Sub-Saharan Africa</td>\n",
       "      <td>157</td>\n",
       "      <td>2.905</td>\n",
       "      <td>0.08658</td>\n",
       "      <td>0.01530</td>\n",
       "      <td>0.41587</td>\n",
       "      <td>0.22396</td>\n",
       "      <td>0.11850</td>\n",
       "      <td>0.10062</td>\n",
       "      <td>0.19727</td>\n",
       "      <td>1.83302</td>\n",
       "      <td>Burun</td>\n",
       "    </tr>\n",
       "    <tr>\n",
       "      <th>157</th>\n",
       "      <td>Togo</td>\n",
       "      <td>Sub-Saharan Africa</td>\n",
       "      <td>158</td>\n",
       "      <td>2.839</td>\n",
       "      <td>0.06727</td>\n",
       "      <td>0.20868</td>\n",
       "      <td>0.13995</td>\n",
       "      <td>0.28443</td>\n",
       "      <td>0.36453</td>\n",
       "      <td>0.10731</td>\n",
       "      <td>0.16681</td>\n",
       "      <td>1.56726</td>\n",
       "      <td>Togo</td>\n",
       "    </tr>\n",
       "  </tbody>\n",
       "</table>\n",
       "<p>158 rows × 13 columns</p>\n",
       "</div>"
      ],
      "text/plain": [
       "         Country                           Region  Happiness Rank  \\\n",
       "0    Switzerland                   Western Europe               1   \n",
       "1        Iceland                   Western Europe               2   \n",
       "2        Denmark                   Western Europe               3   \n",
       "3         Norway                   Western Europe               4   \n",
       "4         Canada                    North America               5   \n",
       "..           ...                              ...             ...   \n",
       "153       Rwanda               Sub-Saharan Africa             154   \n",
       "154        Benin               Sub-Saharan Africa             155   \n",
       "155        Syria  Middle East and Northern Africa             156   \n",
       "156      Burundi               Sub-Saharan Africa             157   \n",
       "157         Togo               Sub-Saharan Africa             158   \n",
       "\n",
       "     Happiness Score  Standard Error  Economy (GDP per Capita)   Family  \\\n",
       "0              7.587         0.03411                   1.39651  1.34951   \n",
       "1              7.561         0.04884                   1.30232  1.40223   \n",
       "2              7.527         0.03328                   1.32548  1.36058   \n",
       "3              7.522         0.03880                   1.45900  1.33095   \n",
       "4              7.427         0.03553                   1.32629  1.32261   \n",
       "..               ...             ...                       ...      ...   \n",
       "153            3.465         0.03464                   0.22208  0.77370   \n",
       "154            3.340         0.03656                   0.28665  0.35386   \n",
       "155            3.006         0.05015                   0.66320  0.47489   \n",
       "156            2.905         0.08658                   0.01530  0.41587   \n",
       "157            2.839         0.06727                   0.20868  0.13995   \n",
       "\n",
       "     Health (Life Expectancy)  Freedom  Trust (Government Corruption)  \\\n",
       "0                     0.94143  0.66557                        0.41978   \n",
       "1                     0.94784  0.62877                        0.14145   \n",
       "2                     0.87464  0.64938                        0.48357   \n",
       "3                     0.88521  0.66973                        0.36503   \n",
       "4                     0.90563  0.63297                        0.32957   \n",
       "..                        ...      ...                            ...   \n",
       "153                   0.42864  0.59201                        0.55191   \n",
       "154                   0.31910  0.48450                        0.08010   \n",
       "155                   0.72193  0.15684                        0.18906   \n",
       "156                   0.22396  0.11850                        0.10062   \n",
       "157                   0.28443  0.36453                        0.10731   \n",
       "\n",
       "     Generosity  Dystopia Residual first_five_letters  \n",
       "0       0.29678            2.51738              Switz  \n",
       "1       0.43630            2.70201              Icela  \n",
       "2       0.34139            2.49204              Denma  \n",
       "3       0.34699            2.46531              Norwa  \n",
       "4       0.45811            2.45176              Canad  \n",
       "..          ...                ...                ...  \n",
       "153     0.22628            0.67042              Rwand  \n",
       "154     0.18260            1.63328              Benin  \n",
       "155     0.47179            0.32858              Syria  \n",
       "156     0.19727            1.83302              Burun  \n",
       "157     0.16681            1.56726               Togo  \n",
       "\n",
       "[158 rows x 13 columns]"
      ]
     },
     "execution_count": 11,
     "metadata": {},
     "output_type": "execute_result"
    }
   ],
   "source": [
    "# 10. Use the github link below to read the data and create a dataframe. After creating the dataframe \n",
    "# extract the first 6 letters of each country and store in the dataframe under a new column called \n",
    "# first_five_letters.\n",
    "\n",
    "data = pd.read_csv(\"https://raw.githubusercontent.com/dsrscientist/DSData/master/happiness_score_dataset.csv\")\n",
    "\n",
    "df = pd.DataFrame(data)\n",
    "df\n",
    "\n",
    "df['first_five_letters'] = df['Country'].apply(lambda x: x[:5])\n",
    "df"
   ]
  },
  {
   "cell_type": "code",
   "execution_count": 12,
   "id": "f30e6866",
   "metadata": {},
   "outputs": [
    {
     "name": "stdout",
     "output_type": "stream",
     "text": [
      "<re.Match object; span=(0, 2), match='In'>\n",
      "\n",
      " String matched the pattern\n"
     ]
    }
   ],
   "source": [
    "# 11. Write a Python program to match a string that contains only upper and lowercase letters, numbers,and underscores.\n",
    "\n",
    "target_string = \"In 1910 when a new revised Constitution was adopted it acquired its present name.\"\n",
    "\n",
    "def match_string(string):\n",
    "    pattern = r\"^[a-zA-Z0-9_]+\"\n",
    "    result = re.match(pattern, string)\n",
    "    print(result)\n",
    "    if result:\n",
    "        print(\"\\n String matched the pattern\")\n",
    "    else:\n",
    "        print(\"\\n No match string found\")\n",
    "    \n",
    "\n",
    "match_string(target_string)"
   ]
  },
  {
   "cell_type": "code",
   "execution_count": 13,
   "id": "c4d109a8",
   "metadata": {},
   "outputs": [
    {
     "name": "stdout",
     "output_type": "stream",
     "text": [
      "Enter any string776hkjhkG\n",
      "<re.Match object; span=(0, 1), match='7'>\n"
     ]
    },
    {
     "data": {
      "text/plain": [
       "True"
      ]
     },
     "execution_count": 13,
     "metadata": {},
     "output_type": "execute_result"
    }
   ],
   "source": [
    "# 12. Write a Python program where a string will start with a specific number. \n",
    "\n",
    "string = input(\"Enter any string\")\n",
    "\n",
    "def start_with(string):\n",
    "    pattern = r\"^7\"\n",
    "    result = re.match(pattern,string)\n",
    "    print(result)\n",
    "    \n",
    "    if result:\n",
    "        return True\n",
    "    else:\n",
    "        return False\n",
    "\n",
    "start_with(string)"
   ]
  },
  {
   "cell_type": "code",
   "execution_count": 14,
   "id": "71f293fb",
   "metadata": {},
   "outputs": [
    {
     "name": "stdout",
     "output_type": "stream",
     "text": [
      "Enter an IP address of yours 192.08.001.18\n",
      "\n",
      " 192.8.1.18\n"
     ]
    }
   ],
   "source": [
    "# 13. Write a Python program to remove leading zeros from an IP address\n",
    "\n",
    "IP_address = input(\"Enter an IP address of yours \")\n",
    "\n",
    "def remove_leadzero(IP):\n",
    "    pattern = \"\\.[0]*\"\n",
    "    updated_string = re.sub(pattern,\".\", IP)\n",
    "    print(\"\\n\",updated_string)\n",
    "    \n",
    "remove_leadzero(IP_address)"
   ]
  },
  {
   "cell_type": "code",
   "execution_count": 15,
   "id": "7437fa68",
   "metadata": {},
   "outputs": [
    {
     "name": "stdout",
     "output_type": "stream",
     "text": [
      "August 15th 1947\n"
     ]
    }
   ],
   "source": [
    "# 14. Write a regular expression in python to match a date string in the form of Month name followed by day\n",
    "# number and year stored in a text file.\n",
    "\n",
    "def date_match():\n",
    "    with open(\"sample2.txt\") as file:\n",
    "        for string in file:\n",
    "            pattern = r\"([A-Z][a-z]+ \\d{1,2}(?:st|nd|rd|th)? \\d{4})\"\n",
    "            matches = re.findall(pattern, string) \n",
    "            for i in matches:\n",
    "                print(i)\n",
    "            \n",
    "date_match() "
   ]
  },
  {
   "cell_type": "code",
   "execution_count": 16,
   "id": "447cef38",
   "metadata": {},
   "outputs": [
    {
     "name": "stdout",
     "output_type": "stream",
     "text": [
      "<re.Match object; span=(16, 19), match='fox'>\n",
      "fox\n",
      "<re.Match object; span=(40, 43), match='dog'>\n",
      "dog\n"
     ]
    }
   ],
   "source": [
    "# 15. Write a Python program to search some literals strings in a string. \n",
    "# Searched words : 'fox', 'dog', 'horse'\n",
    "\n",
    "sample_text = 'The quick brown fox jumps over the lazy dog.'\n",
    "pattern = r\"fox|dog|horse\"\n",
    "\n",
    "result = re.finditer(pattern,sample_text)\n",
    "\n",
    "# print all match objects\n",
    "for match_obj in result:\n",
    "    print(match_obj)\n",
    "\n",
    "    print(match_obj.group())\n",
    "    \n",
    "\n",
    "# Searched words : 'fox', 'dog', 'horse'"
   ]
  },
  {
   "cell_type": "code",
   "execution_count": 17,
   "id": "653a2f6e",
   "metadata": {},
   "outputs": [
    {
     "name": "stdout",
     "output_type": "stream",
     "text": [
      "<re.Match object; span=(16, 19), match='fox'> \n",
      "\n",
      "Found fox in The quick brown fox jumps over the lazy dog. starting from 16 to 19\n"
     ]
    }
   ],
   "source": [
    "# 16. Write a Python program to search a literals string in a string and also find the location within \n",
    "# the original string where the pattern occurs\n",
    "\n",
    "sample_text = 'The quick brown fox jumps over the lazy dog.'\n",
    "pattern = 'fox'\n",
    "match = re.search(pattern, sample_text)\n",
    "print(match,\"\\n\")\n",
    "start_loc = match.start()\n",
    "end_loc = match.end()\n",
    "\n",
    "print(f\"Found {match.re.pattern} in {match.string} starting from {start_loc} to {end_loc}\")"
   ]
  },
  {
   "cell_type": "code",
   "execution_count": 18,
   "id": "e174d46f",
   "metadata": {},
   "outputs": [
    {
     "name": "stdout",
     "output_type": "stream",
     "text": [
      "['exercises', 'exercises', 'exercises']\n",
      "Match found exercises\n",
      "Match found exercises\n",
      "Match found exercises\n"
     ]
    }
   ],
   "source": [
    "# 17. Write a Python program to find the substrings within a string.\n",
    "\n",
    "target_string = 'Python exercises, PHP exercises, C# exercises'\n",
    "\n",
    "def substrings(string):\n",
    "    pattern = 'exercises'\n",
    "    matches = re.findall(pattern, string)\n",
    "    print(matches)\n",
    "    \n",
    "    for match in matches:\n",
    "        print(f\"Match found {match}\")\n",
    "        \n",
    "substrings(target_string)"
   ]
  },
  {
   "cell_type": "code",
   "execution_count": 19,
   "id": "75756096",
   "metadata": {},
   "outputs": [
    {
     "name": "stdout",
     "output_type": "stream",
     "text": [
      "<re.Match object; span=(7, 16), match='exercises'>\n",
      "exercises\n",
      "<re.Match object; span=(22, 31), match='exercises'>\n",
      "exercises\n",
      "<re.Match object; span=(36, 45), match='exercises'>\n",
      "exercises\n"
     ]
    }
   ],
   "source": [
    "# 18. Write a Python program to find the occurrence and position of the substrings within a string.\n",
    "\n",
    "sample_text = 'Python exercises, PHP exercises, C# exercises'\n",
    "\n",
    "def substrings_position(string):\n",
    "    pattern = 'exercises'\n",
    "    matches = re.finditer(pattern,sample_text)\n",
    "    # print all match objects\n",
    "    for match_obj in matches:\n",
    "        print(match_obj)\n",
    "        \n",
    "        print(match_obj.group())\n",
    "        \n",
    "substrings_position(sample_text)  "
   ]
  },
  {
   "cell_type": "code",
   "execution_count": 20,
   "id": "838a199b",
   "metadata": {},
   "outputs": [
    {
     "name": "stdout",
     "output_type": "stream",
     "text": [
      "Enter the date in yyyy-mm-dd format 2024-05-26\n",
      "26-05-2024\n"
     ]
    }
   ],
   "source": [
    "# 19. Write a Python program to convert a date of yyyy-mm-dd format to dd-mm-yyyy format. \n",
    "\n",
    "dt = input(\"Enter the date in yyyy-mm-dd format \")\n",
    "\n",
    "def date_formatchange(dt):\n",
    "    change_date = re.sub(r\"(\\d{4})-(\\d{1,2})-(\\d{1,2})\",\"\\\\3-\\\\2-\\\\1\",dt)\n",
    "    return change_date\n",
    "\n",
    "converted = date_formatchange(dt)\n",
    "print(converted)"
   ]
  },
  {
   "cell_type": "code",
   "execution_count": 21,
   "id": "a4923570",
   "metadata": {},
   "outputs": [
    {
     "name": "stdout",
     "output_type": "stream",
     "text": [
      "['01.12', '145.8', '3.01', '27.25', '0.25']\n"
     ]
    }
   ],
   "source": [
    "# 20. Create a function in python to find all decimal numbers with a precision of 1 or 2 in a string. \n",
    "# The use of the re.compile() method is mandatory.\n",
    "# Expected Output: ['01.12', '145.8', '3.01', '27.25', '0.25']\n",
    "\n",
    "sample_text = \"01.12 0132.123 2.31875 145.8 3.01 27.25 0.25 \"\n",
    "    \n",
    "def find_decimals(text):\n",
    "    pattern = re.compile(\"(\\d+\\.\\d{1,2})\\s\")\n",
    "    decimals = pattern.findall(text)\n",
    "    return decimals\n",
    "\n",
    "wanted_decimals = find_decimals(sample_text)\n",
    "print(wanted_decimals)"
   ]
  },
  {
   "cell_type": "code",
   "execution_count": 22,
   "id": "b854f360",
   "metadata": {},
   "outputs": [
    {
     "name": "stdout",
     "output_type": "stream",
     "text": [
      "100 position starts from 70\n",
      "85 position starts from 95\n"
     ]
    }
   ],
   "source": [
    "# 21. Write a Python program to separate and print the numbers and their position of a given string.\n",
    "test_string = \"Call and text for free with TextNow, the free phone service with over 100 million users across 85 nations.\"\n",
    "\n",
    "pattern = \"\\d+\"\n",
    "matches = re.finditer(pattern, test_string)\n",
    "for match in matches:\n",
    "    print(f\"{match.group()} position starts from {match.start()}\")"
   ]
  },
  {
   "cell_type": "code",
   "execution_count": 23,
   "id": "ca40c501",
   "metadata": {},
   "outputs": [
    {
     "data": {
      "text/plain": [
       "'Max numeric value = 950'"
      ]
     },
     "execution_count": 23,
     "metadata": {},
     "output_type": "execute_result"
    }
   ],
   "source": [
    "# 22. Write a regular expression in python program to extract maximum/largest numeric value from a string.\n",
    "text= 'My marks in each semester are: 947, 896, 926, 524, 734, 950, 642'\n",
    "\n",
    "def num_max(string):\n",
    "    numerics = re.findall('\\d+', string) # Find all numerics\n",
    "    max_numeric = max(numerics)\n",
    "    return (f\"Max numeric value = {max_numeric}\")\n",
    "\n",
    "num_max(text)"
   ]
  },
  {
   "cell_type": "code",
   "execution_count": 24,
   "id": "36ba82ef",
   "metadata": {},
   "outputs": [
    {
     "name": "stdout",
     "output_type": "stream",
     "text": [
      "Regular Expression Is An Important Topic In Python\n"
     ]
    }
   ],
   "source": [
    "# 23. Create a function in python to insert spaces between words starting with capital letters.\n",
    "\n",
    "sample_text = \"RegularExpressionIsAnImportantTopicInPython\"\n",
    "# pattern = r\"([A-Za-z])([A-Z])\"\n",
    "# result = re.sub(pattern, r\"\\1 \\2\", sample_text)\n",
    "# print(result)\n",
    "\n",
    "def insert_spaces(string):\n",
    "    pattern = r\"([A-Za-z])([A-Z])\"\n",
    "    space_insert = re.sub(pattern, r\"\\1 \\2\", string)\n",
    "    return space_insert\n",
    "\n",
    "print(insert_spaces(sample_text))"
   ]
  },
  {
   "cell_type": "code",
   "execution_count": 25,
   "id": "a1794a2e",
   "metadata": {},
   "outputs": [
    {
     "name": "stdout",
     "output_type": "stream",
     "text": [
      "<re.Match object; span=(0, 5), match='Among'>\n",
      "['Among', 'Solar', 'Jupiter']\n"
     ]
    },
    {
     "data": {
      "text/plain": [
       "'Sequence matched!'"
      ]
     },
     "execution_count": 25,
     "metadata": {},
     "output_type": "execute_result"
    }
   ],
   "source": [
    "# 24. Python regex to find sequences of one upper case letter followed by lower case letters\n",
    "\n",
    "target_string = \"Among the planets in our Solar system, Jupiter is the eldest and largest, and it often\"\n",
    "\n",
    "def seq_match(string):\n",
    "    pattern = \"[A-Z][a-z]+\"\n",
    "    matches = re.search(pattern, string)\n",
    "    print(matches) \n",
    "    \n",
    "    allmatches = re.findall(pattern, string)\n",
    "    print(allmatches)\n",
    "    \n",
    "    if matches:\n",
    "        return (\"Sequence matched!\")\n",
    "    else: \n",
    "        return (\"Sequence not matched!\")\n",
    "    \n",
    "    allmatches = re.findall(pattern, string)\n",
    "    print(allmatches)\n",
    "    \n",
    "    \n",
    "seq_match(target_string)"
   ]
  },
  {
   "cell_type": "code",
   "execution_count": 26,
   "id": "e94d0810",
   "metadata": {},
   "outputs": [
    {
     "name": "stdout",
     "output_type": "stream",
     "text": [
      "Hello hello world\n"
     ]
    }
   ],
   "source": [
    "# 25. Write a Python program to remove continuous duplicate words from Sentence using Regular Expression.\n",
    "\n",
    "sample_text = \"Hello hello world world\"\n",
    "patteren = r'\\b(\\w+)(?:\\W+\\1\\b)+'\n",
    "\n",
    "filter_duplicate = re.sub(patteren, r'\\1', sample_text)\n",
    "print(filter_duplicate)"
   ]
  },
  {
   "cell_type": "code",
   "execution_count": 27,
   "id": "6839eec1",
   "metadata": {},
   "outputs": [
    {
     "name": "stdout",
     "output_type": "stream",
     "text": [
      "The string ends with alphanumeric \n"
     ]
    }
   ],
   "source": [
    "# 26. Write a python program using RegEx to accept string ending with alphanumeric character.\n",
    "\n",
    "target_string = \"My driving licence number is LWHTA876GN99\"\n",
    "\n",
    "def alphanumeric(string):\n",
    "    pattern = \"[a-zA-Z0-9]$\"\n",
    "    match = re.search(pattern,string)\n",
    "    if match:\n",
    "        print(\"The string ends with alphanumeric \")\n",
    "    else:\n",
    "        print(\"The string does not end with alphanumeric \")\n",
    "\n",
    "alphanumeric(target_string)"
   ]
  },
  {
   "cell_type": "code",
   "execution_count": 28,
   "id": "f897a97b",
   "metadata": {},
   "outputs": [
    {
     "data": {
      "text/plain": [
       "['#Doltiwal', '#xyzabc', '#Demonetization']"
      ]
     },
     "execution_count": 28,
     "metadata": {},
     "output_type": "execute_result"
    }
   ],
   "source": [
    "# 27. Write a python program using RegEx to extract the hashtags.\n",
    "sample_text = \"\"\"RT @kapil_kausik: #Doltiwal I mean #xyzabc is \"hurt\" by #Demonetization as the same has rendered \n",
    "USELESS <ed><U+00A0><U+00BD><ed><U+00B1><U+0089> \"acquired funds\" No wo\"\"\"\n",
    "\n",
    "def hashtags(string):\n",
    "    pattern = r\"#\\w+\"\n",
    "    hashtags = re.findall(pattern, string)\n",
    "    return hashtags\n",
    "\n",
    "hashtags(sample_text)"
   ]
  },
  {
   "cell_type": "code",
   "execution_count": 29,
   "id": "599fa4f9",
   "metadata": {},
   "outputs": [
    {
     "name": "stdout",
     "output_type": "stream",
     "text": [
      "@Jags123456 Bharat band on 28??<ed><ed>Those who  are protesting #demonetization  are all different party leaders\n"
     ]
    }
   ],
   "source": [
    "# 28. Write a python program using RegEx to remove <U+..> like symbols\n",
    "# Check the below sample text, there are strange symbols something of the sort <U+..> all over the place. \n",
    "# You need to come up with a general Regex expression that will cover all such symbols.\n",
    "\n",
    "sample_text = \"@Jags123456 Bharat band on 28??<ed><U+00A0><U+00BD><ed><U+00B8><U+0082>Those who  are protesting #demonetization  are all different party leaders\"\n",
    "def remove_strange(string):\n",
    "    pattern = r\"(<U\\+\\w{4}>)\"\n",
    "    modified_string = re.sub(pattern, \"\", string)\n",
    "    return modified_string\n",
    "\n",
    "print(remove_strange(sample_text))"
   ]
  },
  {
   "cell_type": "code",
   "execution_count": 30,
   "id": "6d70cb9f",
   "metadata": {},
   "outputs": [
    {
     "name": "stdout",
     "output_type": "stream",
     "text": [
      "['12-09-1992', '15-12-1999']\n"
     ]
    }
   ],
   "source": [
    "# 29. Write a python program to extract dates from the text stored in the text file.\n",
    "# sample_text = Ron was born on 12-09-1992 and he was admitted to school 15-12-1999.\n",
    "# Note- Store this sample text in the file and then extract dates.\n",
    "\n",
    "def extract_date():\n",
    "    with open(\"sample3.txt\") as file:\n",
    "        for line in file:\n",
    "            dates = re.findall(r\"\\d{1,2}-\\d{1,2}-\\d{4}\",line)\n",
    "            return dates            \n",
    "            \n",
    "dates = extract_date() \n",
    "print(dates)"
   ]
  },
  {
   "cell_type": "code",
   "execution_count": 31,
   "id": "908c3330",
   "metadata": {},
   "outputs": [
    {
     "name": "stdout",
     "output_type": "stream",
     "text": [
      "following example creates ArrayList a capacity elements. 4 elements added ArrayList ArrayList trimmed accordingly.\n"
     ]
    }
   ],
   "source": [
    "# 30. Create a function in python to remove all words from a string of length between 2 and 4.\n",
    "# The use of the re.compile() method is mandatory.\n",
    "\n",
    "target_string = \"The following example creates an ArrayList with a capacity of 50 elements. 4 elements are then added to the ArrayList and the ArrayList is trimmed accordingly.\"\n",
    "\n",
    "def remove_words(string):\n",
    "    string_pattern = r\"\\b\\w{2,4}\\s\\b\"\n",
    "    pattern = re.compile(string_pattern)\n",
    "    result_string = re.sub(pattern,\"\", string)\n",
    "    print(result_string)\n",
    "    \n",
    "remove_words(target_string)\n"
   ]
  }
 ],
 "metadata": {
  "kernelspec": {
   "display_name": "Python 3 (ipykernel)",
   "language": "python",
   "name": "python3"
  },
  "language_info": {
   "codemirror_mode": {
    "name": "ipython",
    "version": 3
   },
   "file_extension": ".py",
   "mimetype": "text/x-python",
   "name": "python",
   "nbconvert_exporter": "python",
   "pygments_lexer": "ipython3",
   "version": "3.9.13"
  }
 },
 "nbformat": 4,
 "nbformat_minor": 5
}
